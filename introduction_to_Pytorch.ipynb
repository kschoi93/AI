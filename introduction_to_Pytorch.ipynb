{
  "nbformat": 4,
  "nbformat_minor": 0,
  "metadata": {
    "colab": {
      "name": "introduction to Pytorch.ipynb",
      "provenance": [],
      "collapsed_sections": [],
      "authorship_tag": "ABX9TyPPk8T3uRmgL/z+sNc4QRx8",
      "include_colab_link": true
    },
    "kernelspec": {
      "name": "python3",
      "display_name": "Python 3"
    },
    "language_info": {
      "name": "python"
    }
  },
  "cells": [
    {
      "cell_type": "markdown",
      "metadata": {
        "id": "view-in-github",
        "colab_type": "text"
      },
      "source": [
        "<a href=\"https://colab.research.google.com/github/kschoi93/AI/blob/master/introduction_to_Pytorch.ipynb\" target=\"_parent\"><img src=\"https://colab.research.google.com/assets/colab-badge.svg\" alt=\"Open In Colab\"/></a>"
      ]
    },
    {
      "cell_type": "code",
      "execution_count": 2,
      "metadata": {
        "id": "6RNr86JZVfWR"
      },
      "outputs": [],
      "source": [
        "import torch"
      ]
    },
    {
      "cell_type": "code",
      "source": [
        "z = torch.zeros(5, 3)\n",
        "print(z)\n",
        "print(z.dtype)"
      ],
      "metadata": {
        "colab": {
          "base_uri": "https://localhost:8080/"
        },
        "id": "e2KLTFVtVxY0",
        "outputId": "6063d76e-9b3a-41a2-8b81-8df9a549ecc3"
      },
      "execution_count": 3,
      "outputs": [
        {
          "output_type": "stream",
          "name": "stdout",
          "text": [
            "tensor([[0., 0., 0.],\n",
            "        [0., 0., 0.],\n",
            "        [0., 0., 0.],\n",
            "        [0., 0., 0.],\n",
            "        [0., 0., 0.]])\n",
            "torch.float32\n"
          ]
        }
      ]
    },
    {
      "cell_type": "code",
      "source": [
        "i = torch.ones((5, 3 ), dtype=torch.int16)\n",
        "print(i)"
      ],
      "metadata": {
        "colab": {
          "base_uri": "https://localhost:8080/"
        },
        "id": "oH_amTP3WEbt",
        "outputId": "f09ea3a7-9199-4544-81c1-2f2b1559fa1c"
      },
      "execution_count": 4,
      "outputs": [
        {
          "output_type": "stream",
          "name": "stdout",
          "text": [
            "tensor([[1, 1, 1],\n",
            "        [1, 1, 1],\n",
            "        [1, 1, 1],\n",
            "        [1, 1, 1],\n",
            "        [1, 1, 1]], dtype=torch.int16)\n"
          ]
        }
      ]
    },
    {
      "cell_type": "code",
      "source": [
        "torch.manual_seed(1729)\n",
        "r1 = torch.rand(2, 2)\n",
        "print('A random tensor')\n",
        "print(r1)\n",
        "\n",
        "r2 = torch.rand(2, 2)\n",
        "print('\\nA different random tensor:')\n",
        "print(r2)\n",
        "\n",
        "torch.manual_seed(1729)\n",
        "r3 = torch.rand(2,2)\n",
        "print('\\nShould match r1:')\n",
        "print(r3)"
      ],
      "metadata": {
        "colab": {
          "base_uri": "https://localhost:8080/"
        },
        "id": "snhTPVBBXHUK",
        "outputId": "c27ce7c3-5c64-4f43-9ee9-ff4e21a72d86"
      },
      "execution_count": 5,
      "outputs": [
        {
          "output_type": "stream",
          "name": "stdout",
          "text": [
            "A random tensor\n",
            "tensor([[0.3126, 0.3791],\n",
            "        [0.3087, 0.0736]])\n",
            "\n",
            "A different random tensor:\n",
            "tensor([[0.4216, 0.0691],\n",
            "        [0.2332, 0.4047]])\n",
            "\n",
            "Should match r1:\n",
            "tensor([[0.3126, 0.3791],\n",
            "        [0.3087, 0.0736]])\n"
          ]
        }
      ]
    },
    {
      "cell_type": "code",
      "source": [
        "ones = torch.ones(2, 3)\n",
        "print(ones)\n",
        "\n",
        "twos = torch.ones(2, 3)\n",
        "print(twos)\n",
        "\n",
        "threes = ones + twos\n",
        "print(threes)\n",
        "print(threes.shape)\n",
        "\n",
        "r1 = torch.rand(2, 3)\n",
        "r2 = torch.rand(3, 2)"
      ],
      "metadata": {
        "colab": {
          "base_uri": "https://localhost:8080/"
        },
        "id": "Yn-FuTbzYhAO",
        "outputId": "08a192de-ef1b-46dc-cf14-0eb1fca97063"
      },
      "execution_count": 6,
      "outputs": [
        {
          "output_type": "stream",
          "name": "stdout",
          "text": [
            "tensor([[1., 1., 1.],\n",
            "        [1., 1., 1.]])\n",
            "tensor([[1., 1., 1.],\n",
            "        [1., 1., 1.]])\n",
            "tensor([[2., 2., 2.],\n",
            "        [2., 2., 2.]])\n",
            "torch.Size([2, 3])\n"
          ]
        }
      ]
    },
    {
      "cell_type": "code",
      "source": [
        "r = (torch.rand(2, 2) - 0.5) * 2\n",
        "print('A random matrix, r:')\n",
        "print(r)\n",
        "\n",
        "print('\\nAbsolute value of r:')\n",
        "print(torch.abs(r))\n",
        "\n",
        "print('\\nInverse sine of r:')\n",
        "print(torch.asin(r))\n",
        "\n",
        "print('\\nDeterminant of r:')\n",
        "print(torch.det(r))\n",
        "print('\\nSingular value decomposition of r:')\n",
        "print(torch.svd(r))\n",
        "\n",
        "print('\\mAverage and standard deviation of r:')\n",
        "print(torch.std_mean(r))\n",
        "print('\\nMaximum value of r:')\n",
        "print(torch.max(r))"
      ],
      "metadata": {
        "id": "2aHxg-3WaavA",
        "colab": {
          "base_uri": "https://localhost:8080/"
        },
        "outputId": "e614ccac-5898-418e-a083-1c4e1296b5b6"
      },
      "execution_count": 7,
      "outputs": [
        {
          "output_type": "stream",
          "name": "stdout",
          "text": [
            "A random matrix, r:\n",
            "tensor([[ 0.9956, -0.2232],\n",
            "        [ 0.3858, -0.6593]])\n",
            "\n",
            "Absolute value of r:\n",
            "tensor([[0.9956, 0.2232],\n",
            "        [0.3858, 0.6593]])\n",
            "\n",
            "Inverse sine of r:\n",
            "tensor([[ 1.4775, -0.2251],\n",
            "        [ 0.3961, -0.7199]])\n",
            "\n",
            "Determinant of r:\n",
            "tensor(-0.5703)\n",
            "\n",
            "Singular value decomposition of r:\n",
            "torch.return_types.svd(\n",
            "U=tensor([[-0.8353, -0.5497],\n",
            "        [-0.5497,  0.8353]]),\n",
            "S=tensor([1.1793, 0.4836]),\n",
            "V=tensor([[-0.8851, -0.4654],\n",
            "        [ 0.4654, -0.8851]]))\n",
            "\\mAverage and standard deviation of r:\n",
            "(tensor(0.7217), tensor(0.1247))\n",
            "\n",
            "Maximum value of r:\n",
            "tensor(0.9956)\n"
          ]
        }
      ]
    },
    {
      "cell_type": "code",
      "source": [
        ""
      ],
      "metadata": {
        "id": "Dkk8WwnhMauT"
      },
      "execution_count": 7,
      "outputs": []
    }
  ]
}