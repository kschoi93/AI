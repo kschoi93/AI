{
  "nbformat": 4,
  "nbformat_minor": 0,
  "metadata": {
    "colab": {
      "name": "CNNTest.ipynb",
      "provenance": [],
      "collapsed_sections": [],
      "authorship_tag": "ABX9TyNjVkFVVxVgF5Y16GJdkHXr",
      "include_colab_link": true
    },
    "kernelspec": {
      "name": "python3",
      "display_name": "Python 3"
    },
    "language_info": {
      "name": "python"
    },
    "accelerator": "GPU"
  },
  "cells": [
    {
      "cell_type": "markdown",
      "metadata": {
        "id": "view-in-github",
        "colab_type": "text"
      },
      "source": [
        "<a href=\"https://colab.research.google.com/github/kschoi93/AI/blob/master/CNNTest.ipynb\" target=\"_parent\"><img src=\"https://colab.research.google.com/assets/colab-badge.svg\" alt=\"Open In Colab\"/></a>"
      ]
    },
    {
      "cell_type": "code",
      "execution_count": 1,
      "metadata": {
        "id": "rI2ySQk5qYY1"
      },
      "outputs": [],
      "source": [
        "import torch\n",
        "import torch.nn as nn\n",
        "import torch.nn.functional as F\n",
        "\n",
        "import torchvision\n",
        "import torchvision.transforms as transforms\n",
        "\n",
        "import matplotlib.pyplot as plt"
      ]
    },
    {
      "cell_type": "markdown",
      "source": [
        "torch device가 cuda를 사용 할 수 있는지 확인을 하고 cuda or cpu 을 정합니다."
      ],
      "metadata": {
        "id": "WtplZM6ixM8S"
      }
    },
    {
      "cell_type": "code",
      "source": [
        "device = torch.device('cuda' if torch.cuda.is_available() else 'cpu')\n",
        "device"
      ],
      "metadata": {
        "colab": {
          "base_uri": "https://localhost:8080/"
        },
        "id": "3LxHrGx6qc15",
        "outputId": "be228fb6-6b9a-492f-b82d-7c68bcbf5a01"
      },
      "execution_count": 2,
      "outputs": [
        {
          "output_type": "execute_result",
          "data": {
            "text/plain": [
              "device(type='cuda')"
            ]
          },
          "metadata": {},
          "execution_count": 2
        }
      ]
    },
    {
      "cell_type": "markdown",
      "source": [
        "datasets는 샘플과 정답을 저장하고 있습니다. \n",
        "\n",
        "ex) (image, label)\n",
        "\n",
        "transforms를 통해 정규화를 합니다. datasets에서 넘어온 FashionMNIST 데이터셋은 PIL Image로 이루어져 있습니다. \n",
        "\n",
        "이를 Tensor 화 시킵니다."
      ],
      "metadata": {
        "id": "bm1ryH3lxVk-"
      }
    },
    {
      "cell_type": "code",
      "source": [
        "train_dataset = torchvision.datasets.FashionMNIST(root='/', train=True, download=True, transform=transforms.ToTensor())\n",
        "test_dataset = torchvision.datasets.FashionMNIST(root='/', train=False, download=True, transform=transforms.ToTensor())\n",
        "print(train_dataset, test_dataset)\n",
        "print(len(train_dataset[0]))\n",
        "# plt.imshow(train_dataset[0][0])\n",
        "print(train_dataset[0][0].shape)"
      ],
      "metadata": {
        "colab": {
          "base_uri": "https://localhost:8080/"
        },
        "id": "In-sW8G3q_wp",
        "outputId": "04a20a6a-8699-496e-ac76-7bbca2505940"
      },
      "execution_count": 3,
      "outputs": [
        {
          "output_type": "stream",
          "name": "stdout",
          "text": [
            "Dataset FashionMNIST\n",
            "    Number of datapoints: 60000\n",
            "    Root location: /\n",
            "    Split: Train\n",
            "    StandardTransform\n",
            "Transform: ToTensor() Dataset FashionMNIST\n",
            "    Number of datapoints: 10000\n",
            "    Root location: /\n",
            "    Split: Test\n",
            "    StandardTransform\n",
            "Transform: ToTensor()\n",
            "2\n",
            "torch.Size([1, 28, 28])\n"
          ]
        }
      ]
    },
    {
      "cell_type": "markdown",
      "source": [
        "DataLoader는 dataset을 샘플에 쉽게 접근 할 수 있도록 순회 가능한 객체로 감쌉니다.\n",
        "\n",
        "iterable = 순회 가능한 객체"
      ],
      "metadata": {
        "id": "8ydzklVfxt4Z"
      }
    },
    {
      "cell_type": "code",
      "source": [
        "train_loader = torch.utils.data.DataLoader(train_dataset, batch_size=100)\n",
        "test_loader = torch.utils.data.DataLoader(test_dataset, batch_size=100)\n",
        "print(train_loader, test_loader)"
      ],
      "metadata": {
        "colab": {
          "base_uri": "https://localhost:8080/"
        },
        "id": "i2VLgMbZrjXI",
        "outputId": "9c8e738b-efc0-44a8-b51d-31ea3c0dd003"
      },
      "execution_count": 4,
      "outputs": [
        {
          "output_type": "stream",
          "name": "stdout",
          "text": [
            "<torch.utils.data.dataloader.DataLoader object at 0x7f591ab81e50> <torch.utils.data.dataloader.DataLoader object at 0x7f591ab81dd0>\n"
          ]
        }
      ]
    },
    {
      "cell_type": "code",
      "source": [
        "class FashionMNIST(nn.Module):\n",
        "    def __init__(self):\n",
        "        super(FashionMNIST, self).__init__()\n",
        "        self.conv2 = nn.Conv2d(in_channels=1, out_channels=28, kernel_size=3, stride=1)\n",
        "        self.fc1 = nn.Linear(in_features=2366*2*2*2, out_features=600)\n",
        "        self.drop = nn.Dropout2d(0.25)\n",
        "        self.fc2 = nn.Linear(in_features=600, out_features=120)\n",
        "        self.fc3 = nn.Linear(in_features=120, out_features=10)\n",
        "    \n",
        "    def forward(self, x):\n",
        "        out = self.conv2(x)\n",
        "        out = out.view(out.size(0), -1)\n",
        "        out = self.fc1(out)\n",
        "        out = self.drop(out)\n",
        "        out = self.fc2(out)\n",
        "        out = self.fc3(out)\n",
        "        return out"
      ],
      "metadata": {
        "id": "x20xTAIVyWcV"
      },
      "execution_count": 5,
      "outputs": []
    },
    {
      "cell_type": "code",
      "source": [
        "model = FashionMNIST()\n",
        "model.to(device)\n",
        "print(model)"
      ],
      "metadata": {
        "colab": {
          "base_uri": "https://localhost:8080/"
        },
        "id": "1bqpjYK54GVi",
        "outputId": "dfad1ea6-96c8-4b6a-8c91-80a6668c1280"
      },
      "execution_count": 6,
      "outputs": [
        {
          "output_type": "stream",
          "name": "stdout",
          "text": [
            "FashionMNIST(\n",
            "  (conv2): Conv2d(1, 28, kernel_size=(3, 3), stride=(1, 1))\n",
            "  (fc1): Linear(in_features=18928, out_features=600, bias=True)\n",
            "  (drop): Dropout2d(p=0.25, inplace=False)\n",
            "  (fc2): Linear(in_features=600, out_features=120, bias=True)\n",
            "  (fc3): Linear(in_features=120, out_features=10, bias=True)\n",
            ")\n"
          ]
        }
      ]
    },
    {
      "cell_type": "code",
      "source": [
        "learning_rate = 0.001\n",
        "criterion = nn.CrossEntropyLoss()\n",
        "optimizer = torch.optim.SGD(model.parameters(), lr=learning_rate)\n",
        "print(model.parameters())"
      ],
      "metadata": {
        "colab": {
          "base_uri": "https://localhost:8080/"
        },
        "id": "Ynj2Q1WG4kDR",
        "outputId": "4bfccf02-84ba-41a5-aba9-75ff0f015fdf"
      },
      "execution_count": 7,
      "outputs": [
        {
          "output_type": "stream",
          "name": "stdout",
          "text": [
            "<generator object Module.parameters at 0x7f58124f4f50>\n"
          ]
        }
      ]
    },
    {
      "cell_type": "code",
      "source": [
        "epochs = 5\n",
        "count = 0\n",
        "loss_ = []\n",
        "\n",
        "for epoch in range(epochs):\n",
        "    for images, labels in train_loader:\n",
        "        images, labels = images.to(device), labels.to(device)\n",
        "        train = images.view(100, 1, 28, 28)\n",
        "        outputs = model(train)\n",
        "        loss = criterion(outputs, labels)\n",
        "        \n",
        "        optimizer.zero_grad()\n",
        "        loss.backward()\n",
        "        optimizer.step()\n",
        "        count += 1\n",
        "        \n",
        "        if not (count % 500):\n",
        "            print(\"epoch: {}, count: {}, loss: {}\".format(epoch, count, loss.data))\n",
        "    loss_.append(loss.item())\n",
        "\n",
        "plt.plot(loss_)\n",
        "plt.title(loss)\n",
        "plt.xlabel('epoch')\n",
        "plt.show()"
      ],
      "metadata": {
        "colab": {
          "base_uri": "https://localhost:8080/",
          "height": 399
        },
        "id": "2UMAt8yt4MvH",
        "outputId": "88b1217e-6866-4a99-aef6-ec0253126a32"
      },
      "execution_count": 8,
      "outputs": [
        {
          "output_type": "stream",
          "name": "stdout",
          "text": [
            "epoch: 0, count: 500, loss: 1.365533471107483\n",
            "epoch: 1, count: 1000, loss: 0.913890540599823\n",
            "epoch: 2, count: 1500, loss: 0.6797886490821838\n",
            "epoch: 3, count: 2000, loss: 0.9297076463699341\n",
            "epoch: 4, count: 2500, loss: 0.7108811736106873\n",
            "epoch: 4, count: 3000, loss: 0.5792214870452881\n"
          ]
        },
        {
          "output_type": "display_data",
          "data": {
            "text/plain": [
              "<Figure size 432x288 with 1 Axes>"
            ],
            "image/png": "[encoded data removed]"
          },
          "metadata": {
            "needs_background": "light"
          }
        }
      ]
    },
    {
      "cell_type": "code",
      "source": [
        "dataiter = iter(test_loader)\n",
        "images, labels = dataiter.next()\n",
        "print(images.shape)\n",
        "print(images[0][0].shape)\n",
        "plt.imshow(images[0][0])\n",
        "print(labels)"
      ],
      "metadata": {
        "id": "u1jMbMRz6Fd4",
        "colab": {
          "base_uri": "https://localhost:8080/",
          "height": 387
        },
        "outputId": "313a7071-d95e-4698-a70b-7923fb2f1286"
      },
      "execution_count": 9,
      "outputs": [
        {
          "output_type": "stream",
          "name": "stdout",
          "text": [
            "torch.Size([100, 1, 28, 28])\n",
            "torch.Size([28, 28])\n",
            "tensor([9, 2, 1, 1, 6, 1, 4, 6, 5, 7, 4, 5, 7, 3, 4, 1, 2, 4, 8, 0, 2, 5, 7, 9,\n",
            "        1, 4, 6, 0, 9, 3, 8, 8, 3, 3, 8, 0, 7, 5, 7, 9, 6, 1, 3, 7, 6, 7, 2, 1,\n",
            "        2, 2, 4, 4, 5, 8, 2, 2, 8, 4, 8, 0, 7, 7, 8, 5, 1, 1, 2, 3, 9, 8, 7, 0,\n",
            "        2, 6, 2, 3, 1, 2, 8, 4, 1, 8, 5, 9, 5, 0, 3, 2, 0, 6, 5, 3, 6, 7, 1, 8,\n",
            "        0, 1, 4, 2])\n"
          ]
        },
        {
          "output_type": "display_data",
          "data": {
            "text/plain": [
              "<Figure size 432x288 with 1 Axes>"
            ],
            "image/png": "[encoded data removed]"
          },
          "metadata": {
            "needs_background": "light"
          }
        }
      ]
    },
    {
      "cell_type": "code",
      "source": [
        "correct = 0\n",
        "total = 0\n",
        "\n",
        "with torch.no_grad():\n",
        "  for data in test_loader:\n",
        "    images, labels = data[0].to(device), data[1].to(device)\n",
        "    outputs = model(images)\n",
        "    _, predicted = torch.max(outputs.data, 1)\n",
        "\n",
        "    total += labels.size(0)\n",
        "    correct += (predicted == labels).sum()\n",
        "\n",
        "print(f'accuracy : {100*correct/total}%')"
      ],
      "metadata": {
        "colab": {
          "base_uri": "https://localhost:8080/"
        },
        "id": "zeqHJsbuGh-M",
        "outputId": "777a0fe8-31ef-4500-b3d1-4baf886110af"
      },
      "execution_count": 10,
      "outputs": [
        {
          "output_type": "stream",
          "name": "stdout",
          "text": [
            "accuracy : 75.8699951171875%\n"
          ]
        }
      ]
    },
    {
      "cell_type": "code",
      "source": [
        ""
      ],
      "metadata": {
        "id": "Om8gXA-JUAeG"
      },
      "execution_count": 11,
      "outputs": []
    }
  ]
}