{
  "nbformat": 4,
  "nbformat_minor": 0,
  "metadata": {
    "colab": {
      "name": "실습0.파이토치 기초.ipynb",
      "provenance": [],
      "collapsed_sections": [],
      "authorship_tag": "ABX9TyOxQbCmBEkHe2fz4RvMPyrY",
      "include_colab_link": true
    },
    "kernelspec": {
      "name": "python3",
      "display_name": "Python 3"
    },
    "language_info": {
      "name": "python"
    },
    "accelerator": "GPU"
  },
  "cells": [
    {
      "cell_type": "markdown",
      "metadata": {
        "id": "view-in-github",
        "colab_type": "text"
      },
      "source": [
        "<a href=\"https://colab.research.google.com/github/kschoi93/AI/blob/master/%EC%8B%A4%EC%8A%B50_%ED%8C%8C%EC%9D%B4%ED%86%A0%EC%B9%98_%EA%B8%B0%EC%B4%88.ipynb\" target=\"_parent\"><img src=\"https://colab.research.google.com/assets/colab-badge.svg\" alt=\"Open In Colab\"/></a>"
      ]
    },
    {
      "cell_type": "code",
      "execution_count": 1,
      "metadata": {
        "id": "LYlHoiWFtrp7"
      },
      "outputs": [],
      "source": [
        "import torch"
      ]
    },
    {
      "cell_type": "code",
      "source": [
        "a = torch.tensor([2.], requires_grad=True)\n",
        "b = torch.tensor([1.], requires_grad=True)\n",
        "c = a + b\n",
        "d = b + 1\n",
        "e = c * d\n",
        "print(a)\n",
        "print(b)\n",
        "print(c)\n",
        "print(d)\n",
        "print(e)"
      ],
      "metadata": {
        "colab": {
          "base_uri": "https://localhost:8080/"
        },
        "id": "QBN2TIlSAjwK",
        "outputId": "188e152e-5922-48ef-f6d9-1b6260d2e709"
      },
      "execution_count": 5,
      "outputs": [
        {
          "output_type": "stream",
          "name": "stdout",
          "text": [
            "tensor([2.], requires_grad=True)\n",
            "tensor([1.], requires_grad=True)\n",
            "tensor([3.], grad_fn=<AddBackward0>)\n",
            "tensor([2.], grad_fn=<AddBackward0>)\n",
            "tensor([6.], grad_fn=<MulBackward0>)\n"
          ]
        }
      ]
    },
    {
      "cell_type": "code",
      "source": [
        "print(a.data)\n",
        "print(a.grad)\n",
        "print(a.grad_fn)"
      ],
      "metadata": {
        "colab": {
          "base_uri": "https://localhost:8080/"
        },
        "id": "8qOtQrwAA0EO",
        "outputId": "5ea6e682-b9c5-4315-e163-31cea4c9aaeb"
      },
      "execution_count": 6,
      "outputs": [
        {
          "output_type": "stream",
          "name": "stdout",
          "text": [
            "tensor([2.])\n",
            "None\n",
            "None\n"
          ]
        }
      ]
    },
    {
      "cell_type": "code",
      "source": [
        "e.backward(retain_graph=True)"
      ],
      "metadata": {
        "id": "B83D-vfvBgA2"
      },
      "execution_count": 8,
      "outputs": []
    },
    {
      "cell_type": "code",
      "source": [
        "print(a.grad)\n",
        "print(b.grad)\n",
        "print(c.grad)\n",
        "print(d.grad)\n",
        "print(e.grad)"
      ],
      "metadata": {
        "colab": {
          "base_uri": "https://localhost:8080/"
        },
        "id": "1fbZcStBBHEW",
        "outputId": "81a31d6a-9f0f-4d88-8b79-556d035e0fb8"
      },
      "execution_count": 9,
      "outputs": [
        {
          "output_type": "stream",
          "name": "stdout",
          "text": [
            "tensor([2.])\n",
            "tensor([5.])\n",
            "None\n",
            "None\n",
            "None\n"
          ]
        },
        {
          "output_type": "stream",
          "name": "stderr",
          "text": [
            "/usr/local/lib/python3.7/dist-packages/torch/_tensor.py:1104: UserWarning: The .grad attribute of a Tensor that is not a leaf Tensor is being accessed. Its .grad attribute won't be populated during autograd.backward(). If you indeed want the .grad field to be populated for a non-leaf Tensor, use .retain_grad() on the non-leaf Tensor. If you access the non-leaf Tensor by mistake, make sure you access the leaf Tensor instead. See github.com/pytorch/pytorch/pull/30531 for more informations. (Triggered internally at  aten/src/ATen/core/TensorBody.h:475.)\n",
            "  return self._grad\n"
          ]
        }
      ]
    },
    {
      "cell_type": "code",
      "source": [
        "a = torch.tensor([2.], requires_grad=True)\n",
        "b = torch.tensor([1.], requires_grad=True)\n",
        "c = a + b\n",
        "d = b + 1\n",
        "e = c * d\n",
        "\n",
        "c.retain_grad()\n",
        "d.retain_grad()\n",
        "e.retain_grad()"
      ],
      "metadata": {
        "id": "tOj6hAzrBQdc"
      },
      "execution_count": 10,
      "outputs": []
    },
    {
      "cell_type": "code",
      "source": [
        "e.backward(retain_graph=True)"
      ],
      "metadata": {
        "id": "zIaE8qtKBwZC"
      },
      "execution_count": 21,
      "outputs": []
    },
    {
      "cell_type": "code",
      "source": [
        "print(a.data, a.grad)\n",
        "print(b.grad)\n",
        "print(c.grad)\n",
        "print(d.grad)\n",
        "print(e.grad)"
      ],
      "metadata": {
        "colab": {
          "base_uri": "https://localhost:8080/"
        },
        "id": "DMFjxCIaBzoU",
        "outputId": "5272d83b-7ac8-4d2e-9287-430b7f8a5b91"
      },
      "execution_count": 22,
      "outputs": [
        {
          "output_type": "stream",
          "name": "stdout",
          "text": [
            "tensor([2.]) tensor([10.])\n",
            "tensor([25.])\n",
            "tensor([10.])\n",
            "tensor([15.])\n",
            "tensor([5.])\n"
          ]
        }
      ]
    },
    {
      "cell_type": "code",
      "source": [
        "a.grad.zero_()\n",
        "b.grad.zero_()\n",
        "c.grad.zero_()\n",
        "d.grad.zero_()\n",
        "e.grad.zero_()\n",
        "\n",
        "print(a.data, a.grad)\n",
        "print(b.grad)\n",
        "print(c.grad)\n",
        "print(d.grad)\n",
        "print(e.grad)"
      ],
      "metadata": {
        "colab": {
          "base_uri": "https://localhost:8080/"
        },
        "id": "dMvcsif5B180",
        "outputId": "fa51fd1f-62db-40ac-ceef-bfa7cfc4ec7e"
      },
      "execution_count": 24,
      "outputs": [
        {
          "output_type": "stream",
          "name": "stdout",
          "text": [
            "tensor([2.]) tensor([0.])\n",
            "tensor([0.])\n",
            "tensor([0.])\n",
            "tensor([0.])\n",
            "tensor([0.])\n"
          ]
        }
      ]
    },
    {
      "cell_type": "code",
      "source": [
        "a.requires_grad = False"
      ],
      "metadata": {
        "id": "1ME1N6h1CJO5"
      },
      "execution_count": 25,
      "outputs": []
    },
    {
      "cell_type": "code",
      "source": [
        "print(a.grad)"
      ],
      "metadata": {
        "colab": {
          "base_uri": "https://localhost:8080/"
        },
        "id": "de5HWvVPCh00",
        "outputId": "78a7f49a-e866-413a-9998-59b620e5b045"
      },
      "execution_count": 26,
      "outputs": [
        {
          "output_type": "stream",
          "name": "stdout",
          "text": [
            "tensor([0.])\n"
          ]
        }
      ]
    },
    {
      "cell_type": "code",
      "source": [
        "a = a.detach()\n",
        "print(a.requires_grad)"
      ],
      "metadata": {
        "colab": {
          "base_uri": "https://localhost:8080/"
        },
        "id": "cujUoMp0CjLJ",
        "outputId": "f43ba321-ae82-487a-e571-17f0120cc887"
      },
      "execution_count": 27,
      "outputs": [
        {
          "output_type": "stream",
          "name": "stdout",
          "text": [
            "False\n"
          ]
        }
      ]
    },
    {
      "cell_type": "code",
      "source": [
        "import torch.nn as nn\n",
        "import torch.optim as optim"
      ],
      "metadata": {
        "id": "6q32vdBnCm7J"
      },
      "execution_count": 28,
      "outputs": []
    },
    {
      "cell_type": "code",
      "source": [
        "class Net(nn.Module):\n",
        "    def __init__(self):\n",
        "        super(Net, self).__init__()\n",
        "        self.fc1 = nn.Linear(in_features=100, out_features=100, bias=True)\n",
        "        self.fc1_act = nn.ReLU()\n",
        "        self.fc2 = nn.Linear(in_features=100, out_features=10, bias=True)\n",
        "\n",
        "    def forward(self, x):\n",
        "        out = self.fc1(x)\n",
        "        out = self.fc1_act(out)\n",
        "        out = self.fc2(out)\n",
        "        return out"
      ],
      "metadata": {
        "id": "OUCuBTQxCrFE"
      },
      "execution_count": 29,
      "outputs": []
    },
    {
      "cell_type": "code",
      "source": [
        "net = Net()\n",
        "print (net)"
      ],
      "metadata": {
        "colab": {
          "base_uri": "https://localhost:8080/"
        },
        "id": "HyUKteJZEHJW",
        "outputId": "50f99ab7-fe00-499d-be58-2ead59f02401"
      },
      "execution_count": 30,
      "outputs": [
        {
          "output_type": "stream",
          "name": "stdout",
          "text": [
            "Net(\n",
            "  (fc1): Linear(in_features=100, out_features=100, bias=True)\n",
            "  (fc1_act): ReLU()\n",
            "  (fc2): Linear(in_features=100, out_features=10, bias=True)\n",
            ")\n"
          ]
        }
      ]
    },
    {
      "cell_type": "code",
      "source": [
        "params = list(net.parameters())\n",
        "print(len(params))\n",
        "print(params[0].size())"
      ],
      "metadata": {
        "colab": {
          "base_uri": "https://localhost:8080/"
        },
        "id": "zoaTe2jbEIpk",
        "outputId": "1f1cb88f-31e2-482f-aef4-f67b5e08caf6"
      },
      "execution_count": 32,
      "outputs": [
        {
          "output_type": "stream",
          "name": "stdout",
          "text": [
            "4\n",
            "torch.Size([100, 100])\n"
          ]
        }
      ]
    },
    {
      "cell_type": "code",
      "source": [
        "for name, param in net.named_parameters():\n",
        "    print(name)"
      ],
      "metadata": {
        "colab": {
          "base_uri": "https://localhost:8080/"
        },
        "id": "rUHdQOdbEYdN",
        "outputId": "774c9383-2733-4fad-8ada-e5f0e5c806ce"
      },
      "execution_count": 33,
      "outputs": [
        {
          "output_type": "stream",
          "name": "stdout",
          "text": [
            "fc1.weight\n",
            "fc1.bias\n",
            "fc2.weight\n",
            "fc2.bias\n"
          ]
        }
      ]
    },
    {
      "cell_type": "code",
      "source": [
        "print(net.fc1.weight)"
      ],
      "metadata": {
        "colab": {
          "base_uri": "https://localhost:8080/"
        },
        "id": "gDK-Rf1pE2Lw",
        "outputId": "72cbee62-635c-435a-adc2-ec15efcdb30b"
      },
      "execution_count": 36,
      "outputs": [
        {
          "output_type": "stream",
          "name": "stdout",
          "text": [
            "Parameter containing:\n",
            "tensor([[ 0.0929, -0.0740, -0.0735,  ..., -0.0187, -0.0741, -0.0078],\n",
            "        [ 0.0355, -0.0234, -0.0260,  ...,  0.0383,  0.0077,  0.0402],\n",
            "        [ 0.0750,  0.0223,  0.0746,  ..., -0.0683, -0.0580,  0.0438],\n",
            "        ...,\n",
            "        [ 0.0203, -0.0179,  0.0452,  ..., -0.0807, -0.0245, -0.0683],\n",
            "        [-0.0513, -0.0679, -0.0789,  ...,  0.0683,  0.0138, -0.0184],\n",
            "        [ 0.0968, -0.0855,  0.0351,  ...,  0.0550,  0.0032, -0.0962]],\n",
            "       requires_grad=True)\n"
          ]
        }
      ]
    },
    {
      "cell_type": "code",
      "source": [
        "batch_size = 10\n",
        "input = torch.randn(batch_size, 100)\n",
        "output = net(input)\n",
        "\n",
        "target = torch.randn(batch_size, 10)\n",
        "criterion = nn.MSELoss()\n",
        "\n",
        "loss = criterion(output, target)\n",
        "print(loss)"
      ],
      "metadata": {
        "colab": {
          "base_uri": "https://localhost:8080/"
        },
        "id": "b3Xazei3E-eV",
        "outputId": "bcd6b78f-5a02-43f8-bd36-bb9359433ec3"
      },
      "execution_count": 37,
      "outputs": [
        {
          "output_type": "stream",
          "name": "stdout",
          "text": [
            "tensor(0.8264, grad_fn=<MseLossBackward0>)\n"
          ]
        }
      ]
    },
    {
      "cell_type": "code",
      "source": [
        "net.zero_grad()\n",
        "\n",
        "print('conv1.bias.grad before backward')\n",
        "print (net.fc1.bias.grad)\n",
        "\n",
        "loss.backward()\n",
        "\n",
        "print('fc1.bias.grad after backward')\n",
        "print(net.fc1.bias.grad)"
      ],
      "metadata": {
        "colab": {
          "base_uri": "https://localhost:8080/"
        },
        "id": "Sktse0sSHYA4",
        "outputId": "10129909-6cf9-49c5-d244-3e1bc9d5d2c2"
      },
      "execution_count": 39,
      "outputs": [
        {
          "output_type": "stream",
          "name": "stdout",
          "text": [
            "conv1.bias.grad before backward\n",
            "None\n",
            "fc1.bias.grad after backward\n",
            "tensor([ 0.0083, -0.0067, -0.0002, -0.0165,  0.0054, -0.0054,  0.0045,  0.0021,\n",
            "        -0.0046, -0.0109, -0.0117,  0.0051, -0.0017, -0.0058, -0.0085, -0.0017,\n",
            "         0.0285, -0.0056,  0.0174, -0.0037, -0.0087,  0.0196,  0.0119, -0.0074,\n",
            "         0.0170,  0.0165,  0.0009, -0.0107,  0.0007,  0.0049, -0.0015, -0.0042,\n",
            "        -0.0066,  0.0080, -0.0035,  0.0076, -0.0039, -0.0048,  0.0008, -0.0085,\n",
            "         0.0035, -0.0070, -0.0120,  0.0106,  0.0105, -0.0015,  0.0091,  0.0035,\n",
            "        -0.0006, -0.0006,  0.0005,  0.0021,  0.0061,  0.0131, -0.0018,  0.0031,\n",
            "         0.0006, -0.0008,  0.0039, -0.0050, -0.0019,  0.0020, -0.0043, -0.0035,\n",
            "        -0.0086, -0.0130, -0.0065,  0.0011, -0.0042, -0.0034,  0.0097, -0.0018,\n",
            "         0.0077,  0.0087,  0.0152,  0.0077, -0.0012, -0.0027, -0.0030, -0.0003,\n",
            "        -0.0074,  0.0000,  0.0037,  0.0088,  0.0060,  0.0027, -0.0066,  0.0090,\n",
            "         0.0120,  0.0211, -0.0032,  0.0026,  0.0092, -0.0016,  0.0145, -0.0062,\n",
            "         0.0065, -0.0107, -0.0010,  0.0111])\n"
          ]
        }
      ]
    },
    {
      "cell_type": "code",
      "source": [
        "learning_rate = 0.01\n",
        "for param in net.parameters():\n",
        "    param.data.sub_(param.grad.data * learning_rate)"
      ],
      "metadata": {
        "id": "6JxyXZ_LIB-U"
      },
      "execution_count": 40,
      "outputs": []
    },
    {
      "cell_type": "code",
      "source": [
        "optimizer = optim.SGD(net.parameters(), lr=learning_rate)\n",
        "\n",
        "num_epochs = 100\n",
        "for i in range(num_epochs):\n",
        "    optimizer.zero_grad()\n",
        "    output = net(input)\n",
        "    loss = criterion(output, target)\n",
        "    print(loss)\n",
        "    loss.backward()\n",
        "    optimizer.step()"
      ],
      "metadata": {
        "colab": {
          "base_uri": "https://localhost:8080/"
        },
        "id": "JCOhun5NIxMU",
        "outputId": "a7986931-c01d-4c30-aa4c-fc0a2248e41d"
      },
      "execution_count": 41,
      "outputs": [
        {
          "output_type": "stream",
          "name": "stdout",
          "text": [
            "tensor(0.8148, grad_fn=<MseLossBackward0>)\n",
            "tensor(0.8035, grad_fn=<MseLossBackward0>)\n",
            "tensor(0.7924, grad_fn=<MseLossBackward0>)\n",
            "tensor(0.7815, grad_fn=<MseLossBackward0>)\n",
            "tensor(0.7709, grad_fn=<MseLossBackward0>)\n",
            "tensor(0.7606, grad_fn=<MseLossBackward0>)\n",
            "tensor(0.7507, grad_fn=<MseLossBackward0>)\n",
            "tensor(0.7409, grad_fn=<MseLossBackward0>)\n",
            "tensor(0.7314, grad_fn=<MseLossBackward0>)\n",
            "tensor(0.7222, grad_fn=<MseLossBackward0>)\n",
            "tensor(0.7131, grad_fn=<MseLossBackward0>)\n",
            "tensor(0.7041, grad_fn=<MseLossBackward0>)\n",
            "tensor(0.6954, grad_fn=<MseLossBackward0>)\n",
            "tensor(0.6868, grad_fn=<MseLossBackward0>)\n",
            "tensor(0.6783, grad_fn=<MseLossBackward0>)\n",
            "tensor(0.6700, grad_fn=<MseLossBackward0>)\n",
            "tensor(0.6619, grad_fn=<MseLossBackward0>)\n",
            "tensor(0.6539, grad_fn=<MseLossBackward0>)\n",
            "tensor(0.6460, grad_fn=<MseLossBackward0>)\n",
            "tensor(0.6383, grad_fn=<MseLossBackward0>)\n",
            "tensor(0.6307, grad_fn=<MseLossBackward0>)\n",
            "tensor(0.6231, grad_fn=<MseLossBackward0>)\n",
            "tensor(0.6158, grad_fn=<MseLossBackward0>)\n",
            "tensor(0.6085, grad_fn=<MseLossBackward0>)\n",
            "tensor(0.6014, grad_fn=<MseLossBackward0>)\n",
            "tensor(0.5944, grad_fn=<MseLossBackward0>)\n",
            "tensor(0.5875, grad_fn=<MseLossBackward0>)\n",
            "tensor(0.5807, grad_fn=<MseLossBackward0>)\n",
            "tensor(0.5741, grad_fn=<MseLossBackward0>)\n",
            "tensor(0.5676, grad_fn=<MseLossBackward0>)\n",
            "tensor(0.5611, grad_fn=<MseLossBackward0>)\n",
            "tensor(0.5548, grad_fn=<MseLossBackward0>)\n",
            "tensor(0.5485, grad_fn=<MseLossBackward0>)\n",
            "tensor(0.5423, grad_fn=<MseLossBackward0>)\n",
            "tensor(0.5362, grad_fn=<MseLossBackward0>)\n",
            "tensor(0.5302, grad_fn=<MseLossBackward0>)\n",
            "tensor(0.5242, grad_fn=<MseLossBackward0>)\n",
            "tensor(0.5184, grad_fn=<MseLossBackward0>)\n",
            "tensor(0.5126, grad_fn=<MseLossBackward0>)\n",
            "tensor(0.5069, grad_fn=<MseLossBackward0>)\n",
            "tensor(0.5013, grad_fn=<MseLossBackward0>)\n",
            "tensor(0.4957, grad_fn=<MseLossBackward0>)\n",
            "tensor(0.4902, grad_fn=<MseLossBackward0>)\n",
            "tensor(0.4849, grad_fn=<MseLossBackward0>)\n",
            "tensor(0.4796, grad_fn=<MseLossBackward0>)\n",
            "tensor(0.4744, grad_fn=<MseLossBackward0>)\n",
            "tensor(0.4692, grad_fn=<MseLossBackward0>)\n",
            "tensor(0.4641, grad_fn=<MseLossBackward0>)\n",
            "tensor(0.4591, grad_fn=<MseLossBackward0>)\n",
            "tensor(0.4541, grad_fn=<MseLossBackward0>)\n",
            "tensor(0.4492, grad_fn=<MseLossBackward0>)\n",
            "tensor(0.4443, grad_fn=<MseLossBackward0>)\n",
            "tensor(0.4395, grad_fn=<MseLossBackward0>)\n",
            "tensor(0.4347, grad_fn=<MseLossBackward0>)\n",
            "tensor(0.4300, grad_fn=<MseLossBackward0>)\n",
            "tensor(0.4253, grad_fn=<MseLossBackward0>)\n",
            "tensor(0.4208, grad_fn=<MseLossBackward0>)\n",
            "tensor(0.4162, grad_fn=<MseLossBackward0>)\n",
            "tensor(0.4117, grad_fn=<MseLossBackward0>)\n",
            "tensor(0.4073, grad_fn=<MseLossBackward0>)\n",
            "tensor(0.4029, grad_fn=<MseLossBackward0>)\n",
            "tensor(0.3986, grad_fn=<MseLossBackward0>)\n",
            "tensor(0.3943, grad_fn=<MseLossBackward0>)\n",
            "tensor(0.3900, grad_fn=<MseLossBackward0>)\n",
            "tensor(0.3858, grad_fn=<MseLossBackward0>)\n",
            "tensor(0.3816, grad_fn=<MseLossBackward0>)\n",
            "tensor(0.3775, grad_fn=<MseLossBackward0>)\n",
            "tensor(0.3734, grad_fn=<MseLossBackward0>)\n",
            "tensor(0.3693, grad_fn=<MseLossBackward0>)\n",
            "tensor(0.3653, grad_fn=<MseLossBackward0>)\n",
            "tensor(0.3613, grad_fn=<MseLossBackward0>)\n",
            "tensor(0.3574, grad_fn=<MseLossBackward0>)\n",
            "tensor(0.3535, grad_fn=<MseLossBackward0>)\n",
            "tensor(0.3496, grad_fn=<MseLossBackward0>)\n",
            "tensor(0.3458, grad_fn=<MseLossBackward0>)\n",
            "tensor(0.3420, grad_fn=<MseLossBackward0>)\n",
            "tensor(0.3383, grad_fn=<MseLossBackward0>)\n",
            "tensor(0.3346, grad_fn=<MseLossBackward0>)\n",
            "tensor(0.3309, grad_fn=<MseLossBackward0>)\n",
            "tensor(0.3272, grad_fn=<MseLossBackward0>)\n",
            "tensor(0.3236, grad_fn=<MseLossBackward0>)\n",
            "tensor(0.3201, grad_fn=<MseLossBackward0>)\n",
            "tensor(0.3165, grad_fn=<MseLossBackward0>)\n",
            "tensor(0.3130, grad_fn=<MseLossBackward0>)\n",
            "tensor(0.3095, grad_fn=<MseLossBackward0>)\n",
            "tensor(0.3061, grad_fn=<MseLossBackward0>)\n",
            "tensor(0.3027, grad_fn=<MseLossBackward0>)\n",
            "tensor(0.2993, grad_fn=<MseLossBackward0>)\n",
            "tensor(0.2959, grad_fn=<MseLossBackward0>)\n",
            "tensor(0.2926, grad_fn=<MseLossBackward0>)\n",
            "tensor(0.2893, grad_fn=<MseLossBackward0>)\n",
            "tensor(0.2861, grad_fn=<MseLossBackward0>)\n",
            "tensor(0.2828, grad_fn=<MseLossBackward0>)\n",
            "tensor(0.2797, grad_fn=<MseLossBackward0>)\n",
            "tensor(0.2765, grad_fn=<MseLossBackward0>)\n",
            "tensor(0.2734, grad_fn=<MseLossBackward0>)\n",
            "tensor(0.2702, grad_fn=<MseLossBackward0>)\n",
            "tensor(0.2672, grad_fn=<MseLossBackward0>)\n",
            "tensor(0.2641, grad_fn=<MseLossBackward0>)\n",
            "tensor(0.2611, grad_fn=<MseLossBackward0>)\n"
          ]
        }
      ]
    },
    {
      "cell_type": "code",
      "source": [
        ""
      ],
      "metadata": {
        "id": "B--QcJi7Jydq"
      },
      "execution_count": null,
      "outputs": []
    }
  ]
}